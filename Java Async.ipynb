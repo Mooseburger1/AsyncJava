{
 "cells": [
  {
   "cell_type": "code",
   "execution_count": 1,
   "metadata": {
    "hide_input": false
   },
   "outputs": [
    {
     "data": {
      "text/html": [
       "<style>.container { width:80% !important; }</style>"
      ],
      "text/plain": [
       "<IPython.core.display.HTML object>"
      ]
     },
     "metadata": {},
     "output_type": "display_data"
    }
   ],
   "source": [
    "from IPython.core.display import display, HTML\n",
    "display(HTML(\"<style>.container { width:80% !important; }</style>\"))"
   ]
  },
  {
   "cell_type": "code",
   "execution_count": 1,
   "metadata": {},
   "outputs": [],
   "source": [
    "%%loadFromPOM\n",
    "<dependency>\n",
    "    <groupId>com.google.guava</groupId>\n",
    "    <artifactId>guava</artifactId>\n",
    "    <version>31.0.1-jre</version>\n",
    "</dependency>\n",
    "<dependency>\n",
    "    <groupId>org.apache.logging.log4j</groupId>\n",
    "    <artifactId>log4j-core</artifactId>\n",
    "    <version>2.16.0</version>\n",
    "</dependency>\n",
    "<dependency>\n",
    "  <groupId>org.apache.logging.log4j</groupId>\n",
    "  <artifactId>log4j-api</artifactId>\n",
    "  <version>2.16.0</version>\n",
    "</dependency>\n",
    "\n",
    "<dependency>\n",
    "    <groupId>com.lmax</groupId>\n",
    "    <artifactId>disruptor</artifactId>\n",
    "    <version>3.4.4</version>\n",
    "</dependency>"
   ]
  },
  {
   "cell_type": "code",
   "execution_count": 2,
   "metadata": {},
   "outputs": [],
   "source": [
    "import com.google.common.util.concurrent.ListenableFuture;\n",
    "import com.google.common.util.concurrent.ListeningExecutorService;\n",
    "import com.google.common.util.concurrent.MoreExecutors;\n",
    "import com.google.common.util.concurrent.Futures;\n",
    "import com.google.common.util.concurrent.FluentFuture;\n",
    "import com.google.common.util.concurrent.FutureCallback;\n",
    "import com.google.common.util.concurrent.AsyncFunction;\n",
    "import com.google.errorprone.annotations.concurrent.GuardedBy;\n",
    "import java.lang.Thread;\n",
    "import java.util.function.Function;\n",
    "import java.util.concurrent.TimeUnit;\n",
    "import java.lang.Void;\n",
    "import java.lang.Runnable;\n",
    "import java.util.List;\n",
    "import java.util.ArrayList;\n",
    "import org.apache.logging.log4j.Logger;\n",
    "import org.apache.logging.log4j.LogManager;\n",
    "import org.apache.logging.log4j.Level;\n",
    "import org.apache.logging.log4j.core.LoggerContext;\n",
    "import org.apache.logging.log4j.core.config.Configurator;"
   ]
  },
  {
   "cell_type": "code",
   "execution_count": 3,
   "metadata": {},
   "outputs": [],
   "source": [
    "Configurator.setRootLevel(Level.DEBUG);\n",
    "Logger logger = LogManager.getLogger(\"AsyncJava\");"
   ]
  },
  {
   "cell_type": "markdown",
   "metadata": {},
   "source": [
    "# ListenableFuture\\<T>\n",
    "----------------\n",
    "\n",
    "### ListenableFuture Execution Flow and Methods\n",
    "* addListener\n",
    "* cancel\n",
    "* isCancelled\n",
    "* isDone\n",
    "* notify\n",
    "* notifyAll\n",
    "    \n",
    "![ListenableFuture Execution Flow](static/LF.gif)\n",
    "\n",
    "### Submitting a task\n",
    "\n",
    "When submiting a long running task (implemented as a <a href=https://www.geeksforgeeks.org/difference-between-callable-and-runnable-in-java/>Callable</a>) to an executor to be ran on a seperate thread, the executor immediately returns a Future. If you want a ListenableFuture, you must decorate a normal executor object with the **listeningDecorator** method from the **MoreExecutors** library. This ListenableFuture<T> object is a placeholder for the future result that will be populated from the async running task.\n",
    "    \n",
    "    \n"
   ]
  },
  {
   "cell_type": "code",
   "execution_count": 4,
   "metadata": {},
   "outputs": [],
   "source": [
    "// The executor is used to submit asynchrounous jobs. It manages the threadpool and tasks execution\n",
    "final ListeningExecutorService executor = MoreExecutors.listeningDecorator(Executors.newFixedThreadPool(5));\n",
    "\n",
    "\n",
    "// Submit Some Long Running Task To Be Executed Asynchronously\n",
    "ListenableFuture<String> future = executor.submit(\n",
    "   () -> {\n",
    "         //Some Long running Task\n",
    "         TimeUnit.MILLISECONDS.sleep(1000);\n",
    "         logger.info(\"Executed Long Running Task On Thread {}\\n\", Thread.currentThread());\n",
    "         return Thread.currentThread().getName();\n",
    "        }\n",
    "    \n",
    ")"
   ]
  },
  {
   "cell_type": "markdown",
   "metadata": {},
   "source": [
    "### ListenableFuture get()\n",
    "\n",
    "This ListenableFuture<T> is used to get the result whenver it is available by calling ListenableFuture<T>.get(). If the async running tasks has finished by the time .get() is called, the result is return immediately. However if the result has not been produced yet by the async running task, the .get() method will be blocking on the main thread. You can check for the result without blocking by calling the ListenableFuture<T>.isDone() method.\n",
    "    \n",
    "    \n",
    " "
   ]
  },
  {
   "cell_type": "code",
   "execution_count": 5,
   "metadata": {},
   "outputs": [
    {
     "name": "stdout",
     "output_type": "stream",
     "text": [
      "10:19:38.183 [IJava-executor-0] INFO  AsyncJava - Async Task Is Still Running\n",
      "10:19:38.496 [IJava-executor-0] INFO  AsyncJava - Async Task Is Still Running\n",
      "10:19:38.798 [IJava-executor-0] INFO  AsyncJava - Async Task Is Still Running\n",
      "10:19:39.082 [pool-2-thread-1] INFO  AsyncJava - Executed Long Running Task On Thread Thread[pool-2-thread-1,5,main]\n",
      "\n",
      "10:19:39.128 [IJava-executor-0] INFO  AsyncJava - The Async Task Was Running On Thread pool-2-thread-1\n",
      "We Are Running on Thread Thread[IJava-executor-0,5,main]\n"
     ]
    }
   ],
   "source": [
    "\n",
    "while (!future.isDone()){\n",
    "    logger.info(\"Async Task Is Still Running\");\n",
    "    TimeUnit.MILLISECONDS.sleep(300);\n",
    "}\n",
    "\n",
    "logger.info(\"The Async Task Was Running On Thread {}\\nWe Are Running on Thread {}\", \n",
    "                  future.get(),\n",
    "                  Thread.currentThread());"
   ]
  },
  {
   "cell_type": "markdown",
   "metadata": {},
   "source": [
    "### Adding A Listener Directly to the ListenableFuture\n",
    "\n",
    "What makes a ListenableFuture<T> a ListenableFuture is the ability to add a listener to it. The Listener will run when the future completes either succesfully or exceptionally. This registered Listener will run, unpredictablly, on some thread from the executor pool. Also note that you dont get access to the result of the listener. The listener must implement the Runnable interface which does not have a return value.\n",
    "    \n",
    "![ListenableFuture Execution Flow](static/LFL.gif)"
   ]
  },
  {
   "cell_type": "code",
   "execution_count": 6,
   "metadata": {},
   "outputs": [
    {
     "name": "stdout",
     "output_type": "stream",
     "text": [
      "10:19:42.210 [pool-2-thread-2] INFO  AsyncJava - Async Task Finished!\n",
      "\n",
      "10:19:42.210 [IJava-executor-0] INFO  AsyncJava - Hello World!\n",
      "\n",
      "10:19:42.211 [pool-2-thread-3] INFO  AsyncJava - Listener Executed on Thread Thread[pool-2-thread-3,5,main]\n",
      " NOTE: The Listener Won't Necessarily Run On The Same Thread As The Submitted Task\n"
     ]
    }
   ],
   "source": [
    "// CREATE LF BY SUBMITTING A TASK TO THE EXECUTOR\n",
    "ListenableFuture<String> futureToAddListener = executor.submit(\n",
    "    () -> {\n",
    "            //Some long running task\n",
    "            TimeUnit.MILLISECONDS.sleep(3000);\n",
    "            logger.info(\"Async Task Finished!\\n\");\n",
    "            \n",
    "            return \"Hello\";\n",
    "        }\n",
    "    );\n",
    "\n",
    "\n",
    "// ADD LISTENER TO THE ListenableFuture\n",
    "futureToAddListener.addListener(\n",
    "    () -> {\n",
    "       logger.info(\"Listener Executed on Thread {}\\n NOTE: The Listener Won't Necessarily Run On The Same Thread As The Submitted Task\", Thread.currentThread());\n",
    "    }\n",
    " ,executor);\n",
    "\n",
    "\n",
    "//Get Result From Long Running Task\n",
    "logger.info(\"{} World!\\n\", futureToAddListener.get());\n"
   ]
  },
  {
   "cell_type": "markdown",
   "metadata": {},
   "source": [
    "### Registering Callbacks to Handle Success and Failure\n",
    "\n",
    "When wanting to add functionality to a single running Async task such that a user doesn't have to wait until the task is done before manually calling the task (blocking), We can use **Futures.addCallback**\n",
    "\n",
    "```{java}\n",
    "Futures.addCallback(\n",
    "\n",
    "ListenableFuture<T>,   //LF you want to register a callback\n",
    "FutureCallback<T>,    //The actual callback\n",
    "Executor             //The executor to run the callback\n",
    ")\n",
    "```"
   ]
  },
  {
   "cell_type": "code",
   "execution_count": 19,
   "metadata": {},
   "outputs": [
    {
     "name": "stdout",
     "output_type": "stream",
     "text": [
      "10:23:10.447 [pool-2-thread-5] INFO  AsyncJava - Performing some async task\n",
      "10:23:12.460 [pool-2-thread-5] INFO  AsyncJava - 40\n",
      "10:23:12.460 [IJava-executor-1] INFO  AsyncJava - The async task result: 10\n"
     ]
    }
   ],
   "source": [
    "ListenableFuture<Integer> asyncTask = executor.submit(\n",
    "() -> {\n",
    "        logger.info(\"Performing some async task\");\n",
    "        TimeUnit.MILLISECONDS.sleep(2000); return 10;}\n",
    ");\n",
    "\n",
    "Futures.addCallback(asyncTask,\n",
    "new FutureCallback<Integer>() {\n",
    "    @Override\n",
    "    public void onSuccess(Integer result) {\n",
    "        logger.info(result + 30);\n",
    "    }\n",
    "\n",
    "    @Override\n",
    "    public void onFailure(Throwable t) {\n",
    "        // do on failure\n",
    "    }\n",
    "}, executor);\n",
    "\n",
    "\n",
    "logger.info(\"The async task result: {}\",asyncTask.get());"
   ]
  },
  {
   "cell_type": "markdown",
   "metadata": {},
   "source": [
    "# Chaining Multiple Async Tasks\n",
    "\n",
    "\n",
    "## Async Steps to Bake Cupcakes\n",
    "\n",
    "It is possible to chain Async tasks such that they execute whatever logic you like upon completion. This allows the user to not have to use the blocking call of the .get() method. \n",
    "\n",
    "For example let's say we want to do the following tasks in order to make cupcakes. We need to\n",
    "\n",
    "1. Preheat the oven \n",
    "    * This task can run while we are doing everything else\n",
    "2. Collect the ingredients\n",
    "    * Eggs, Milk, & Butter are in the Fridge and can be grabbed together (synchronously)\n",
    "    * Flour, Sugar, Baking Soda, Icing are in the Pantry and can be grabbed together (synchronously)\n",
    "    * Foil cups and the cupcake pan are in the same cupboard and can be grabbed together (synchronously)\n",
    "3. Mix the ingredients together (requires all ingredients first)\n",
    "4. Fill the cupcake pan and place in the oven\n",
    "5. Bake for 45 minutes\n",
    "\n",
    "\n",
    "### DAG\n",
    "\n",
    "![Bake a Cake](static/Async_Chaining.jpg)\n",
    "\n",
    "\n",
    "\n",
    "From the Directed Acyclic Graph (DAG) we can see some steps are isolated from each other and can be ran asynchronously (Preheating oven and gathering items). But there are some steps that have dependencies on on prior running async tasks."
   ]
  },
  {
   "cell_type": "markdown",
   "metadata": {},
   "source": [
    "#### Step 1 - Preheat the oven\n",
    "\n",
    "\n",
    "It will take a long time for the oven to preheat. So we can start it and then work on all our other tasks\n",
    "\n",
    "<img src=\"static/preheatOven.png\" height=\"20%\" width=\"20%\">"
   ]
  },
  {
   "cell_type": "code",
   "execution_count": 8,
   "metadata": {},
   "outputs": [
    {
     "name": "stdout",
     "output_type": "stream",
     "text": [
      "10:19:44.369 [pool-2-thread-1] INFO  AsyncJava - Preheating Oven\n",
      "10:19:44.379 [IJava-executor-0] INFO  AsyncJava - Doing other stuff on main thread\n"
     ]
    }
   ],
   "source": [
    "//Preheat the oven\n",
    "ListenableFuture<Boolean> ovenPreheated = executor.submit(\n",
    "    () -> { \n",
    "            // The oven will take awhile to heat up\n",
    "            logger.info(\"Preheating Oven\");\n",
    "            Thread.sleep(10000);\n",
    "            return true;\n",
    "    }\n",
    ");\n",
    "\n",
    "// Do some other stuff on main thread\n",
    "logger.info(\"Doing other stuff on main thread\")"
   ]
  },
  {
   "cell_type": "markdown",
   "metadata": {},
   "source": [
    "#### Step 2 - Collect the ingredients\n",
    "Each step of collecting items from their respective locations will be their own Async Task / ListenableFuture\n",
    "\n",
    "<img src=\"static/gatherItems.png\" height=\"10%\" width=\"10%\">"
   ]
  },
  {
   "cell_type": "code",
   "execution_count": 9,
   "metadata": {},
   "outputs": [
    {
     "name": "stdout",
     "output_type": "stream",
     "text": [
      "10:19:44.452 [pool-2-thread-2] INFO  AsyncJava - Getting items from the fridge\n",
      "10:19:44.467 [pool-2-thread-3] INFO  AsyncJava - Getting items from the pantry\n",
      "10:19:44.481 [pool-2-thread-4] INFO  AsyncJava - Getting items from the cupboard\n",
      "10:19:44.496 [IJava-executor-0] INFO  AsyncJava - Doing other stuff on main thread\n"
     ]
    }
   ],
   "source": [
    "// Items from the fridge\n",
    "ListenableFuture<List<String>> fridgeItems = executor.submit(\n",
    "    () -> {\n",
    "        ArrayList<String> items = new ArrayList<String>();\n",
    "\n",
    "        logger.info(\"Getting items from the fridge\");\n",
    "        TimeUnit.MILLISECONDS.sleep(1000);\n",
    "        items.add(\"Eggs\");\n",
    "        TimeUnit.MILLISECONDS.sleep(1000);\n",
    "        items.add(\"Milk\");\n",
    "        TimeUnit.MILLISECONDS.sleep(1000);\n",
    "        items.add(\"Butter\");\n",
    "        TimeUnit.MILLISECONDS.sleep(1000);\n",
    "        \n",
    "        return items;\n",
    "    }\n",
    ");\n",
    "    \n",
    "    \n",
    "// Items from the pantry\n",
    "ListenableFuture<List<String>> pantryItems = executor.submit(\n",
    "    () -> {\n",
    "        ArrayList<String> items = new ArrayList<String>();\n",
    "\n",
    "        logger.info(\"Getting items from the pantry\");\n",
    "        TimeUnit.MILLISECONDS.sleep(1000);\n",
    "        items.add(\"Flour\");\n",
    "        TimeUnit.MILLISECONDS.sleep(1000);\n",
    "        items.add(\"Sugar\");\n",
    "        TimeUnit.MILLISECONDS.sleep(1000);\n",
    "        items.add(\"Baking Soda\");\n",
    "        TimeUnit.MILLISECONDS.sleep(1000);\n",
    "        \n",
    "        return items;\n",
    "    }\n",
    ");\n",
    "    \n",
    "    \n",
    "// Items from the cupboard\n",
    "ListenableFuture<List<String>> cupboardItems = executor.submit(\n",
    "    () -> {\n",
    "        ArrayList<String> items = new ArrayList<String>();\n",
    "\n",
    "        logger.info(\"Getting items from the cupboard\");\n",
    "        TimeUnit.MILLISECONDS.sleep(1000);\n",
    "        items.add(\"Foil Cups\");\n",
    "        TimeUnit.MILLISECONDS.sleep(1000);\n",
    "        items.add(\"Baking Pan\");\n",
    "        TimeUnit.MILLISECONDS.sleep(1000);\n",
    "        \n",
    "        return items;\n",
    "    }\n",
    "        \n",
    ");\n",
    "\n",
    "\n",
    "// Do some other stuff on main thread\n",
    "logger.info(\"Doing other stuff on main thread\")"
   ]
  },
  {
   "cell_type": "markdown",
   "metadata": {
    "cell_style": "center"
   },
   "source": [
    "#### Step 3 - Mixing the Items Together\n",
    "\n",
    "The next process in the graph is taking all the items we collected from the fridge and the pantry, then mixing them together. To do this, we can utilize the **Futures.whenAllSucceed()** method to register an AsyncCallable function.\n",
    "\n",
    "When both async running tasks complete, they will be combined in the AsyncCallable. This Callable will also run asynchronously. If we wish to run it synchronously, we use the **.call()** method as opposed to the **.callAsync()**;\n",
    "\n",
    "```{java}\n",
    "Futures.whenAllSucceed(\n",
    "    ListenableFuture<T>, ...     // 1 or more ListenableFutures\n",
    ")\n",
    ".callAsync(\n",
    "    AsyncCallabe<C>,      // AsyncCallable function\n",
    "    Executor              // Executor\n",
    "    )\n",
    "    \n",
    " \n",
    "returns ListenableFuture<T>\n",
    "```\n",
    "\n",
    "\n",
    "\n",
    "<img src=\"static/mixed.gif\">\n"
   ]
  },
  {
   "cell_type": "code",
   "execution_count": 10,
   "metadata": {},
   "outputs": [
    {
     "name": "stdout",
     "output_type": "stream",
     "text": [
      "10:19:44.590 [IJava-executor-0] INFO  AsyncJava - Doing other stuff on main thread\r\n"
     ]
    }
   ],
   "source": [
    "// Combining the fridgeItems & pantryItems ListenableFutures\n",
    "ListenableFuture<String> mixedIngredients = Futures.whenAllSucceed(fridgeItems, pantryItems)\n",
    "    .callAsync(\n",
    "        () -> {\n",
    "                for (String item : Futures.getDone(fridgeItems)){\n",
    "                    logger.info(\"Mixing {}\\n\", item);\n",
    "                    TimeUnit.MILLISECONDS.sleep(300);\n",
    "                }\n",
    "            \n",
    "                for (String item : Futures.getDone(pantryItems)){\n",
    "                    logger.info(\"Mixing {}\\n\", item);\n",
    "                    TimeUnit.MILLISECONDS.sleep(300);\n",
    "                }\n",
    "        \n",
    "               \n",
    "               return Futures.immediateFuture(\"Batter\");}\n",
    "        , executor);\n",
    "\n",
    "// Do some other stuff on main thread\n",
    "logger.info(\"Doing other stuff on main thread\")"
   ]
  },
  {
   "cell_type": "markdown",
   "metadata": {},
   "source": [
    "#### Step 4 - Pouring batter in the cupcake pan\n",
    "\n",
    "After getting the Foil cups and the cupcake pan as well as mixing the batter, we are ready to pour the batter in each cup. This step requires the completion of the \"mixing the ingredients\" task as well as the \"getting items from cupboard\" task. \n",
    "\n",
    "<img src=\"static/readybake.gif\">"
   ]
  },
  {
   "cell_type": "code",
   "execution_count": 11,
   "metadata": {},
   "outputs": [
    {
     "name": "stdout",
     "output_type": "stream",
     "text": [
      "10:19:44.669 [IJava-executor-0] INFO  AsyncJava - Doing other stuff on main thread\r\n"
     ]
    }
   ],
   "source": [
    "// Combine cupboardItems and mixedIngredients ListenableFuture\n",
    "ListenableFuture<String> readyToBake = Futures.whenAllSucceed(cupboardItems, mixedIngredients)\n",
    "    .callAsync(\n",
    "                () -> {\n",
    "                    logger.info(\"Pouring batter into each cup in the pan\\n\");\n",
    "                    TimeUnit.MILLISECONDS.sleep(5000);\n",
    "                    return Futures.immediateFuture(\"Ready for Oven\");\n",
    "                }\n",
    "                , executor);\n",
    "\n",
    "// Do some other stuff on main thread\n",
    "logger.info(\"Doing other stuff on main thread\")"
   ]
  },
  {
   "cell_type": "markdown",
   "metadata": {},
   "source": [
    "#### Step 5 - Bake the cupcakes\n",
    "\n",
    "\n",
    "<img src=\"static/baked.gif\">"
   ]
  },
  {
   "cell_type": "code",
   "execution_count": 12,
   "metadata": {},
   "outputs": [
    {
     "name": "stdout",
     "output_type": "stream",
     "text": [
      "10:19:44.749 [IJava-executor-0] INFO  AsyncJava - Doing other stuff on main thread\r\n"
     ]
    }
   ],
   "source": [
    "ListenableFuture<String> bakedCupcakes = Futures.whenAllSucceed(ovenPreheated, readyToBake)\n",
    "    .call(\n",
    "        () -> {\n",
    "            boolean foo = Futures.getDone(ovenPreheated);\n",
    "            logger.info(\"Baking the cupcakes\\n\");\n",
    "            TimeUnit.MILLISECONDS.sleep(5000);\n",
    "            return \"Done\";\n",
    "        }\n",
    "        , executor);\n",
    "    \n",
    "// Do some other stuff on main thread\n",
    "logger.info(\"Doing other stuff on main thread\")"
   ]
  },
  {
   "cell_type": "code",
   "execution_count": 13,
   "metadata": {},
   "outputs": [
    {
     "name": "stdout",
     "output_type": "stream",
     "text": [
      "10:19:48.497 [pool-2-thread-5] INFO  AsyncJava - Mixing Eggs\n",
      "\n",
      "10:19:48.799 [pool-2-thread-5] INFO  AsyncJava - Mixing Milk\n",
      "\n",
      "10:19:49.111 [pool-2-thread-5] INFO  AsyncJava - Mixing Butter\n",
      "\n",
      "10:19:49.413 [pool-2-thread-5] INFO  AsyncJava - Mixing Flour\n",
      "\n",
      "10:19:49.728 [pool-2-thread-5] INFO  AsyncJava - Mixing Sugar\n",
      "\n",
      "10:19:50.030 [pool-2-thread-5] INFO  AsyncJava - Mixing Baking Soda\n",
      "\n",
      "10:19:50.345 [pool-2-thread-5] INFO  AsyncJava - Pouring batter into each cup in the pan\n",
      "\n",
      "10:19:55.359 [pool-2-thread-5] INFO  AsyncJava - Baking the cupcakes\n",
      "\n",
      "10:20:00.372 [IJava-executor-0] INFO  AsyncJava - Done\n"
     ]
    }
   ],
   "source": [
    "logger.info(\"{}\", bakedCupcakes.get());"
   ]
  },
  {
   "cell_type": "markdown",
   "metadata": {},
   "source": [
    "### Overall Flow\n",
    "The overall flow of the asyc tasks we executed above can be visualized here"
   ]
  },
  {
   "cell_type": "markdown",
   "metadata": {},
   "source": [
    "<img src=\"static/tot.gif\">"
   ]
  },
  {
   "cell_type": "markdown",
   "metadata": {},
   "source": [
    "# Locks"
   ]
  },
  {
   "cell_type": "code",
   "execution_count": 14,
   "metadata": {},
   "outputs": [
    {
     "name": "stdout",
     "output_type": "stream",
     "text": [
      "10:20:00.768 [pool-2-thread-3] INFO  AsyncJava - Current value of counter: 1 from task 1\n",
      "10:20:00.974 [pool-2-thread-4] INFO  AsyncJava - Current value of counter: 2 from task 2\n",
      "10:20:01.071 [pool-2-thread-3] INFO  AsyncJava - Current value of counter: 3 from task 1\n",
      "10:20:01.384 [pool-2-thread-3] INFO  AsyncJava - Current value of counter: 4 from task 1\n",
      "10:20:01.480 [pool-2-thread-4] INFO  AsyncJava - Current value of counter: 5 from task 2\n",
      "10:20:01.687 [pool-2-thread-3] INFO  AsyncJava - Current value of counter: 6 from task 1\n",
      "10:20:01.986 [pool-2-thread-4] INFO  AsyncJava - Current value of counter: 7 from task 2\n",
      "10:20:02.001 [pool-2-thread-3] INFO  AsyncJava - Current value of counter: 8 from task 1\n",
      "10:20:02.316 [pool-2-thread-3] INFO  AsyncJava - Current value of counter: 9 from task 1\n",
      "10:20:02.489 [pool-2-thread-4] INFO  AsyncJava - Current value of counter: 10 from task 2\n",
      "10:20:02.631 [pool-2-thread-3] INFO  AsyncJava - Current value of counter: 11 from task 1\n",
      "10:20:02.945 [pool-2-thread-3] INFO  AsyncJava - Current value of counter: 12 from task 1\n",
      "10:20:02.994 [pool-2-thread-4] INFO  AsyncJava - Current value of counter: 13 from task 2\n",
      "10:20:03.248 [pool-2-thread-3] INFO  AsyncJava - Current value of counter: 14 from task 1\n",
      "10:20:03.501 [pool-2-thread-4] INFO  AsyncJava - Current value of counter: 15 from task 2\n",
      "10:20:03.549 [pool-2-thread-3] INFO  AsyncJava - Current value of counter: 16 from task 1\n",
      "10:20:04.007 [pool-2-thread-4] INFO  AsyncJava - Current value of counter: 17 from task 2\n",
      "10:20:04.515 [pool-2-thread-4] INFO  AsyncJava - Current value of counter: 18 from task 2\n",
      "10:20:05.021 [pool-2-thread-4] INFO  AsyncJava - Current value of counter: 19 from task 2\n",
      "10:20:05.532 [pool-2-thread-4] INFO  AsyncJava - Current value of counter: 20 from task 2\n"
     ]
    },
    {
     "data": {
      "text/plain": [
       "Done"
      ]
     },
     "execution_count": 14,
     "metadata": {},
     "output_type": "execute_result"
    }
   ],
   "source": [
    "public class DataModel{\n",
    "    @GuardedBy(\"this\") private static int counter;\n",
    "    private static DataModel instance = null;\n",
    "    \n",
    "    private DataModel(){\n",
    "        counter = 0;\n",
    "    }\n",
    "    \n",
    "    public static DataModel getDataModel(){\n",
    "        if (instance == null){\n",
    "            instance = new DataModel();\n",
    "        }\n",
    "        return instance;\n",
    "    }\n",
    "    \n",
    "    public void incrementCounter(){\n",
    "        counter++;\n",
    "    }\n",
    "    \n",
    "    public void decrementCounter(){\n",
    "        counter--;\n",
    "    }\n",
    "    \n",
    "    public int getCounter(){\n",
    "        return counter;\n",
    "    }\n",
    "}\n",
    "\n",
    "public class TaskDoer  {\n",
    "    private DataModel model;\n",
    "    private int identifier;\n",
    "    \n",
    "    TaskDoer(int identifier){\n",
    "        this.model = DataModel.getDataModel();\n",
    "        this.identifier = identifier;\n",
    "    }\n",
    "    \n",
    "    \n",
    "    public synchronized void doTask(Integer sleep) throws InterruptedException{\n",
    "        for (int i=0; i<10; i++){\n",
    "            TimeUnit.MILLISECONDS.sleep(sleep);\n",
    "            model.incrementCounter();\n",
    "            logger.info(\"Current value of counter: {} from task {}\", this.model.getCounter(), this.identifier);\n",
    "\n",
    "        }\n",
    "    }\n",
    "    \n",
    "}\n",
    "\n",
    "\n",
    "ListenableFuture<String> task1 = executor.submit(() -> {TaskDoer t1 = new TaskDoer(1); t1.doTask(300); return \"Done\";});\n",
    "ListenableFuture<String> task2 = executor.submit(() -> {TaskDoer t2 = new TaskDoer(2); t2.doTask(500); return \"Done\";});\n",
    "\n",
    "\n",
    "task2.get();\n",
    "task1.get();"
   ]
  },
  {
   "cell_type": "code",
   "execution_count": null,
   "metadata": {},
   "outputs": [],
   "source": []
  },
  {
   "cell_type": "code",
   "execution_count": null,
   "metadata": {},
   "outputs": [],
   "source": []
  }
 ],
 "metadata": {
  "hide_input": false,
  "kernelspec": {
   "display_name": "Java",
   "language": "java",
   "name": "java"
  },
  "language_info": {
   "codemirror_mode": "java",
   "file_extension": ".jshell",
   "mimetype": "text/x-java-source",
   "name": "Java",
   "pygments_lexer": "java",
   "version": "17.0.1+12-LTS-39"
  },
  "toc": {
   "base_numbering": 1,
   "nav_menu": {},
   "number_sections": false,
   "sideBar": true,
   "skip_h1_title": false,
   "title_cell": "Table of Contents",
   "title_sidebar": "Contents",
   "toc_cell": false,
   "toc_position": {},
   "toc_section_display": true,
   "toc_window_display": true
  },
  "varInspector": {
   "cols": {
    "lenName": 16,
    "lenType": 16,
    "lenVar": 40
   },
   "kernels_config": {
    "python": {
     "delete_cmd_postfix": "",
     "delete_cmd_prefix": "del ",
     "library": "var_list.py",
     "varRefreshCmd": "print(var_dic_list())"
    },
    "r": {
     "delete_cmd_postfix": ") ",
     "delete_cmd_prefix": "rm(",
     "library": "var_list.r",
     "varRefreshCmd": "cat(var_dic_list()) "
    }
   },
   "types_to_exclude": [
    "module",
    "function",
    "builtin_function_or_method",
    "instance",
    "_Feature"
   ],
   "window_display": false
  }
 },
 "nbformat": 4,
 "nbformat_minor": 4
}
